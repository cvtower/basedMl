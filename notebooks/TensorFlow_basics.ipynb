{
 "cells": [
  {
   "cell_type": "markdown",
   "metadata": {
    "deletable": true,
    "editable": true
   },
   "source": [
    "<img src=\"./img/oscon.png\" width=\"400\">"
   ]
  },
  {
   "cell_type": "code",
   "execution_count": 1,
   "metadata": {
    "collapsed": false,
    "deletable": true,
    "editable": true
   },
   "outputs": [
    {
     "data": {
      "text/plain": [
       "'1.1.0'"
      ]
     },
     "execution_count": 1,
     "metadata": {},
     "output_type": "execute_result"
    }
   ],
   "source": [
    "import tensorflow as tf\n",
    "import numpy as np\n",
    "from sklearn import datasets, metrics, preprocessing\n",
    "import matplotlib.pyplot as plt\n",
    "tf.__version__"
   ]
  },
  {
   "cell_type": "markdown",
   "metadata": {
    "deletable": true,
    "editable": true
   },
   "source": [
    "\n",
    "# Computational graphs\n",
    "In TensorFlow, each of the graph's nodes represent an operation, possibly applied to some input, and can generate an output that is passed on to other nodes. \n",
    "\n"
   ]
  },
  {
   "cell_type": "markdown",
   "metadata": {
    "deletable": true,
    "editable": true
   },
   "source": [
    "# Graph examples\n",
    "\n",
    "\n",
    "Operations in the graph include all kinds of functions, from simple arithmetic ones such as subtraction and multiplication, to more complex ones as we will see later on. They also include more general operations like the creation of constant values.\n",
    "\n",
    "Creating operations is simple:\n",
    "~~~python \n",
    "tf.<node does what> \n",
    "~~~"
   ]
  },
  {
   "cell_type": "markdown",
   "metadata": {
    "deletable": true,
    "editable": true
   },
   "source": [
    "# Fibonacci sequence\n",
    "# $$F_n=F_{n-1}+ F_{n-2}$$\n",
    "## $$F_0 = 0, F_1 = 1 $$\n",
    "\n",
    "<img src=\"./img/fibonacci.png\" width=\"800\">"
   ]
  },
  {
   "cell_type": "code",
   "execution_count": null,
   "metadata": {
    "collapsed": false,
    "deletable": true,
    "editable": true
   },
   "outputs": [],
   "source": [
    "import tensorflow as tf # A default graph was created!\n",
    "\n",
    "a = tf.constant(0) # input of 0\n",
    "b = tf.constant(1) # input of 1\n",
    "c = tf.add(a,b) # 1\n",
    "d = tf.add(b,c) # 2\n",
    "e = tf.add(c,d) # 3\n",
    "f = tf.add(d,e) # 5\n",
    "\n",
    "sess = tf.Session()\n",
    "outs = sess.run(f)\n",
    "sess.close()\n",
    "\n",
    "print('Output is {}'.format(outs))"
   ]
  },
  {
   "cell_type": "markdown",
   "metadata": {
    "deletable": true,
    "editable": true
   },
   "source": [
    "# Weighted sum\n",
    "# $$y=w_0x_0+w_1x_1+w_2x_2$$\n",
    "\n",
    "<img src=\"./img/1d_filter.png\" width=\"600\">"
   ]
  },
  {
   "cell_type": "code",
   "execution_count": null,
   "metadata": {
    "collapsed": false,
    "deletable": true,
    "editable": true
   },
   "outputs": [],
   "source": [
    "x_0 = tf.constant(2) \n",
    "x_1 = tf.constant(-3) \n",
    "x_2 = tf.constant(2) \n",
    "\n",
    "w_0 = tf.constant(4) \n",
    "w_1 = tf.constant(7) \n",
    "w_2 = tf.constant(-5) \n",
    "\n",
    "wx_0 = tf.multiply(x_0,w_0) # x_0*w_0\n",
    "wx_1 = tf.multiply(x_1,w_1) # x_1*w_1\n",
    "wx_2 = tf.multiply(x_2,w_2) # x_2*w_2\n",
    "\n",
    "wx_0_1 = tf.add(wx_0,wx_1) # -wx_0 + wx_1\n",
    "wx_0_1_2 = tf.add(wx_0_1,wx_2) # wx_0_1 + wx_2\n",
    "\n",
    "\n",
    "sess = tf.Session()\n",
    "outs = sess.run(wx_0_1_2)\n",
    "sess.close()\n",
    "\n",
    "print('Output is {}'.format(outs))"
   ]
  },
  {
   "cell_type": "markdown",
   "metadata": {
    "deletable": true,
    "editable": true
   },
   "source": [
    "# Or..."
   ]
  },
  {
   "cell_type": "code",
   "execution_count": null,
   "metadata": {
    "collapsed": false,
    "deletable": true,
    "editable": true
   },
   "outputs": [],
   "source": [
    "x_0 = tf.constant(2) \n",
    "x_1 = tf.constant(-3) \n",
    "x_2 = tf.constant(2) \n",
    "\n",
    "w_0 = tf.constant(4) \n",
    "w_1 = tf.constant(7) \n",
    "w_2 = tf.constant(-5) \n",
    "\n",
    "\n",
    "wx_0_1_2 = (x_0*w_0) + (x_1*w_1) + (x_2*w_2)\n",
    "\n",
    "sess = tf.Session()\n",
    "outs = sess.run(wx_0_1_2)\n",
    "sess.close()\n",
    "\n",
    "print('Output is {}'.format(outs))"
   ]
  },
  {
   "cell_type": "markdown",
   "metadata": {
    "deletable": true,
    "editable": true
   },
   "source": [
    "Working with TensorFlow involves two main phases: constructing a graph and executing it.\n"
   ]
  },
  {
   "cell_type": "markdown",
   "metadata": {
    "deletable": true,
    "editable": true
   },
   "source": [
    "# Session\n",
    "Session object is the part of the TensorFlow API that communicates between\n",
    "Python objects and data on our end, and the actual computational system where\n",
    "memory is allocated for the objects we define, intermediate variables are stored, and\n",
    "finally results are fetched for us."
   ]
  },
  {
   "cell_type": "code",
   "execution_count": null,
   "metadata": {
    "collapsed": true,
    "deletable": true,
    "editable": true
   },
   "outputs": [],
   "source": [
    "# Graph architecture\n",
    "a = tf.constant(0) # input of 0\n",
    "b = tf.constant(1) # input of 1\n",
    "c = tf.add(a,b) # 1\n",
    "d = tf.add(b,c) # 2\n",
    "e = tf.add(c,d) # 3\n",
    "f = tf.add(d,e) # 5"
   ]
  },
  {
   "cell_type": "markdown",
   "metadata": {
    "deletable": true,
    "editable": true
   },
   "source": [
    "### Option 1:\n",
    "\n",
    "~~~python \n",
    "tf.Session()\n",
    "~~~"
   ]
  },
  {
   "cell_type": "code",
   "execution_count": null,
   "metadata": {
    "collapsed": false,
    "deletable": true,
    "editable": true
   },
   "outputs": [],
   "source": [
    "# Start a session and run\n",
    "# option 1\n",
    "\n",
    "sess = tf.Session()\n",
    "outs = sess.run(f)\n",
    "sess.close()\n",
    "\n",
    "print('Output is {}'.format(outs))"
   ]
  },
  {
   "cell_type": "markdown",
   "metadata": {
    "deletable": true,
    "editable": true
   },
   "source": [
    "### Option 2:\n",
    "\n",
    "~~~python \n",
    "with tf.Session()\n",
    "~~~"
   ]
  },
  {
   "cell_type": "code",
   "execution_count": null,
   "metadata": {
    "collapsed": false,
    "deletable": true,
    "editable": true
   },
   "outputs": [],
   "source": [
    "# option 2\n",
    "\n",
    "with tf.Session() as sess:\n",
    "    outs = sess.run(f)\n",
    "\n",
    "print('Output is {}'.format(outs))"
   ]
  },
  {
   "cell_type": "markdown",
   "metadata": {
    "deletable": true,
    "editable": true
   },
   "source": [
    "### Option 3:\n",
    "\n",
    "~~~python \n",
    "tf.InteractiveSession()\n",
    "~~~"
   ]
  },
  {
   "cell_type": "code",
   "execution_count": null,
   "metadata": {
    "collapsed": false,
    "deletable": true,
    "editable": true
   },
   "outputs": [],
   "source": [
    "# option 3\n",
    "\n",
    "sess = tf.InteractiveSession()\n",
    "outs = sess.run(f)\n",
    "sess.close()\n",
    "\n",
    "print('Output is {}'.format(outs))"
   ]
  },
  {
   "cell_type": "markdown",
   "metadata": {
    "deletable": true,
    "editable": true
   },
   "source": [
    "# NumPy\n",
    "NumPy is a popular and useful Python package for numerical computing. The two packages - TensorFlow and NumPy are tightly coupled - for example, the output returned by sess.run() is a NumPy array. "
   ]
  },
  {
   "cell_type": "code",
   "execution_count": null,
   "metadata": {
    "collapsed": false,
    "deletable": true,
    "editable": true
   },
   "outputs": [],
   "source": [
    "a = np.array([[1,2],\n",
    "              [3,4],\n",
    "              [5,6]])\n",
    "print('array a:\\n{}'.format(a))\n",
    "print('==============================')\n",
    "# in numpy we use shape instead of len as with a regular python list\n",
    "print('shape of a:\\n{}'.format(a.shape))"
   ]
  },
  {
   "cell_type": "markdown",
   "metadata": {
    "deletable": true,
    "editable": true
   },
   "source": [
    "# Fetches\n",
    "We can ask the sess.run() command for\n",
    "other node outputs simply by inputting a list of requested nodes. The argument we\n",
    "use for this request is called the ‘fetches’ argument."
   ]
  },
  {
   "cell_type": "code",
   "execution_count": null,
   "metadata": {
    "collapsed": false,
    "deletable": true,
    "editable": true
   },
   "outputs": [],
   "source": [
    "# Graph architecture\n",
    "a = tf.constant(0) # input of 0\n",
    "b = tf.constant(1) # input of 1\n",
    "c = tf.add(a,b) # 1\n",
    "d = tf.add(b,c) # 2\n",
    "e = tf.add(c,d) # 3\n",
    "f = tf.add(d,e) # 5\n",
    "\n",
    "sess = tf.Session()\n",
    "fetches = [a,b,c,d,e,f]\n",
    "outs = sess.run(fetches)\n",
    "sess.close()\n",
    "\n",
    "print('Output is {}'.format(outs))\n",
    "print(type(outs))\n",
    "print(type(outs[0]))"
   ]
  },
  {
   "cell_type": "markdown",
   "metadata": {
    "deletable": true,
    "editable": true
   },
   "source": [
    "# Hands-on .1\n",
    "\n",
    "<img src=\"./img/hands_on_1.png\" width=\"6000\">"
   ]
  },
  {
   "cell_type": "code",
   "execution_count": null,
   "metadata": {
    "collapsed": false,
    "deletable": true,
    "editable": true
   },
   "outputs": [],
   "source": [
    "# %load solutions/solution1.py"
   ]
  },
  {
   "cell_type": "markdown",
   "metadata": {
    "deletable": true,
    "editable": true
   },
   "source": [
    "\n",
    "\n",
    "<img src=\"./img/data_flow.png\" width=\"800\">"
   ]
  },
  {
   "cell_type": "markdown",
   "metadata": {
    "deletable": true,
    "editable": true
   },
   "source": [
    "# tensor arrays"
   ]
  },
  {
   "cell_type": "code",
   "execution_count": null,
   "metadata": {
    "collapsed": false,
    "deletable": true,
    "editable": true
   },
   "outputs": [],
   "source": [
    "# 3d array\n",
    "a = np.array([ \n",
    "            [[1,2,3],\\\n",
    "             [1,2,3],\\\n",
    "             [1,2,3]],\\\n",
    "        \n",
    "              [[3,2,1],\\\n",
    "               [3,2,1],\\\n",
    "               [3,2,1]] \n",
    "             ])\n",
    "print(a.shape)"
   ]
  },
  {
   "cell_type": "markdown",
   "metadata": {
    "deletable": true,
    "editable": true
   },
   "source": [
    "# shape, dtype and name"
   ]
  },
  {
   "cell_type": "code",
   "execution_count": null,
   "metadata": {
    "collapsed": false,
    "deletable": true,
    "editable": true
   },
   "outputs": [],
   "source": [
    "a = [[1,2],[3,4]]\n",
    "# Assigning attributes explicitly\n",
    "x = tf.constant(a,name='a',dtype=tf.float32) "
   ]
  },
  {
   "cell_type": "code",
   "execution_count": null,
   "metadata": {
    "collapsed": false,
    "deletable": true,
    "editable": true
   },
   "outputs": [],
   "source": [
    "print(x.get_shape())"
   ]
  },
  {
   "cell_type": "markdown",
   "metadata": {
    "deletable": true,
    "editable": true
   },
   "source": [
    "Tensor names are generated from the name of the operation that produces them (a Variable op in this case) and the index of the output to which that tensor corresponds."
   ]
  },
  {
   "cell_type": "code",
   "execution_count": null,
   "metadata": {
    "collapsed": false,
    "deletable": true,
    "editable": true
   },
   "outputs": [],
   "source": [
    "print(x.name)"
   ]
  },
  {
   "cell_type": "markdown",
   "metadata": {
    "deletable": true,
    "editable": true
   },
   "source": [
    "It's important to make sure our data types\n",
    "match throughout the graph — performing an operation with two non-matching\n",
    "data types will result in an exception."
   ]
  },
  {
   "cell_type": "code",
   "execution_count": null,
   "metadata": {
    "collapsed": false,
    "deletable": true,
    "editable": true
   },
   "outputs": [],
   "source": [
    "print(x.dtype)"
   ]
  },
  {
   "cell_type": "markdown",
   "metadata": {
    "deletable": true,
    "editable": true
   },
   "source": [
    "## Cast\n",
    "Casts a tensor to a new type."
   ]
  },
  {
   "cell_type": "code",
   "execution_count": null,
   "metadata": {
    "collapsed": false,
    "deletable": true,
    "editable": true
   },
   "outputs": [],
   "source": [
    "x = tf.cast(x,np.int64)\n",
    "print(x.dtype)"
   ]
  },
  {
   "cell_type": "markdown",
   "metadata": {
    "deletable": true,
    "editable": true
   },
   "source": [
    "# Name scopes\n",
    "Sometimes when dealing with large complicated graphs, we would like to create some node grouping to make it easier to follow and manage. "
   ]
  },
  {
   "cell_type": "code",
   "execution_count": null,
   "metadata": {
    "collapsed": false,
    "deletable": true,
    "editable": true
   },
   "outputs": [],
   "source": [
    "with tf.Graph().as_default():\n",
    "    c1 = tf.constant(4,dtype=tf.float64,name='c') \n",
    "    with tf.name_scope(\"prefix_name\"):\n",
    "        c2 = tf.constant(4,dtype=tf.int32,name='c') \n",
    "        c3 = tf.constant(4,dtype=tf.float64,name='c')\n",
    "\n",
    "print(c1.name)\n",
    "print(c2.name)\n",
    "print(c3.name)"
   ]
  },
  {
   "cell_type": "markdown",
   "metadata": {
    "deletable": true,
    "editable": true
   },
   "source": [
    "# Initializers"
   ]
  },
  {
   "cell_type": "markdown",
   "metadata": {
    "collapsed": true,
    "deletable": true,
    "editable": true
   },
   "source": [
    "# Constant and random Initializers "
   ]
  },
  {
   "cell_type": "code",
   "execution_count": null,
   "metadata": {
    "collapsed": false,
    "deletable": true,
    "editable": true
   },
   "outputs": [],
   "source": [
    "\n",
    "sess = tf.InteractiveSession()\n",
    "\n",
    "a = np.array([[1,2],[3,4],[5,6]])\n",
    "\n",
    "x = tf.constant(a)\n",
    "print('constant initializer:\\n {}'.format(x.eval()))"
   ]
  },
  {
   "cell_type": "code",
   "execution_count": null,
   "metadata": {
    "collapsed": false,
    "deletable": true,
    "editable": true
   },
   "outputs": [],
   "source": [
    "x = tf.fill(a.shape,1)\n",
    "print('fill initializer:\\n {}'.format(x.eval()))"
   ]
  },
  {
   "cell_type": "code",
   "execution_count": null,
   "metadata": {
    "collapsed": false,
    "deletable": true,
    "editable": true
   },
   "outputs": [],
   "source": [
    "x = tf.zeros(a.shape)\n",
    "print('fill initializer:\\n {}'.format(x.eval()))\n"
   ]
  },
  {
   "cell_type": "code",
   "execution_count": null,
   "metadata": {
    "collapsed": false,
    "deletable": true,
    "editable": true
   },
   "outputs": [],
   "source": [
    "# === Noramal and Truncated normal distributions ===\n",
    "mean = 0\n",
    "std = 1\n",
    "x_normal = tf.random_normal((1,50000),mean,std).eval()\n",
    "x_truncated = tf.truncated_normal((1,50000),mean,std).eval()\n",
    "\n",
    "# === Uniform distribution\n",
    "minval = -2 \n",
    "maxval = 2\n",
    "x_uniform = tf.random_uniform((1,50000),minval,maxval).eval()\n",
    "\n",
    "sess.close()"
   ]
  },
  {
   "cell_type": "code",
   "execution_count": null,
   "metadata": {
    "collapsed": false,
    "deletable": true,
    "editable": true
   },
   "outputs": [],
   "source": [
    "f,axarr = plt.subplots(1,3,figsize=[15,4])\n",
    "titles = ['Normal','Truncated Normal','Uniform']\n",
    "\n",
    "print(x_normal.shape)\n",
    "for i,x in enumerate([x_normal,x_truncated,x_uniform]):\n",
    "    ax = axarr[i]\n",
    "    ax.hist(x[0],bins=100,color='b',alpha=0.4)\n",
    "    ax.set_title(titles[i],fontsize=20)\n",
    "    ax.set_xlabel('Values',fontsize=20)\n",
    "    ax.set_ylabel('Frequency',fontsize=20)\n",
    "    ax.set_xlim([-5,5])\n",
    "plt.suptitle('Initialized values',fontsize=30, y=1.15)\n",
    "plt.tight_layout()\n",
    "plt.show()"
   ]
  },
  {
   "cell_type": "markdown",
   "metadata": {
    "deletable": true,
    "editable": true
   },
   "source": [
    "# Useful operations"
   ]
  },
  {
   "cell_type": "markdown",
   "metadata": {
    "deletable": true,
    "editable": true
   },
   "source": [
    "## Reduce\n",
    "Operations that you can use to perform common math computations that reduce various dimensions of a tensor\n",
    "~~~python \n",
    "tf.reduce_mean()\n",
    "tf.reduce_sum()\n",
    "tf.reduce_min()\n",
    "tf.reduce_max()\n",
    "tf.reduce_prod()\n",
    "tf.reduce_mean()\n",
    "\n",
    "~~~\n"
   ]
  },
  {
   "cell_type": "code",
   "execution_count": null,
   "metadata": {
    "collapsed": false,
    "deletable": true,
    "editable": true
   },
   "outputs": [],
   "source": [
    "sess = tf.InteractiveSession()\n",
    "\n",
    "a = tf.constant([ [1,2,3],\n",
    "              [4,5,6] ])\n",
    "\n",
    "x = tf.reduce_max(a)\n",
    "print('maximum value:\\n {}'.format(x.eval()))"
   ]
  },
  {
   "cell_type": "markdown",
   "metadata": {
    "deletable": true,
    "editable": true
   },
   "source": [
    "~~~python \n",
    "reduction_indices\n",
    "~~~\n",
    "Is the dimensions to reduce. If None (the default), reduces all dimensions"
   ]
  },
  {
   "cell_type": "code",
   "execution_count": null,
   "metadata": {
    "collapsed": false,
    "deletable": true,
    "editable": true
   },
   "outputs": [],
   "source": [
    "x = tf.reduce_max(a,reduction_indices=0)\n",
    "print('maximum column values:\\n {}'.format(x.eval()))"
   ]
  },
  {
   "cell_type": "code",
   "execution_count": null,
   "metadata": {
    "collapsed": false,
    "deletable": true,
    "editable": true
   },
   "outputs": [],
   "source": [
    "x = tf.reduce_max(a,reduction_indices=1)\n",
    "print('maximum row values:\\n {}'.format(x.eval()))"
   ]
  },
  {
   "cell_type": "markdown",
   "metadata": {
    "deletable": true,
    "editable": true
   },
   "source": [
    "## matmul, expand_dims and transpose"
   ]
  },
  {
   "cell_type": "code",
   "execution_count": null,
   "metadata": {
    "collapsed": false,
    "deletable": true,
    "editable": true
   },
   "outputs": [],
   "source": [
    "a = tf.constant([ [1,2,3],\n",
    "              [4,5,6] ])\n",
    "\n",
    "b = tf.constant([1,0,1])\n",
    "\n",
    "# print('maximum value:\\n {}').format(x.eval())"
   ]
  },
  {
   "cell_type": "code",
   "execution_count": null,
   "metadata": {
    "collapsed": false,
    "deletable": true,
    "editable": true
   },
   "outputs": [],
   "source": [
    "print(a.get_shape())\n",
    "print(b.get_shape())"
   ]
  },
  {
   "cell_type": "code",
   "execution_count": null,
   "metadata": {
    "collapsed": false,
    "deletable": true,
    "editable": true
   },
   "outputs": [],
   "source": [
    "b = tf.expand_dims(b,0)\n",
    "print(b.get_shape())"
   ]
  },
  {
   "cell_type": "code",
   "execution_count": null,
   "metadata": {
    "collapsed": false,
    "deletable": true,
    "editable": true
   },
   "outputs": [],
   "source": [
    "x = tf.matmul(a,tf.transpose(b))\n",
    "print('matmul result:\\n {}'.format(x.eval()))"
   ]
  },
  {
   "cell_type": "markdown",
   "metadata": {
    "deletable": true,
    "editable": true
   },
   "source": [
    "# Hands-on .2\n",
    "\n",
    "<img src=\"./img/hands_on_2_a.png\" width=\"500\">"
   ]
  },
  {
   "cell_type": "code",
   "execution_count": null,
   "metadata": {
    "collapsed": true,
    "deletable": true,
    "editable": true
   },
   "outputs": [],
   "source": [
    "# %load solutions/solution2.py"
   ]
  },
  {
   "cell_type": "markdown",
   "metadata": {
    "deletable": true,
    "editable": true
   },
   "source": [
    "# Variables\n",
    "Variables are Tensor objects that we use to store and update model parameters."
   ]
  },
  {
   "cell_type": "code",
   "execution_count": null,
   "metadata": {
    "collapsed": false,
    "deletable": true,
    "editable": true,
    "scrolled": true
   },
   "outputs": [],
   "source": [
    "x = tf.Variable(0, name='x')\n",
    "init = tf.global_variables_initializer()\n",
    "print('pre-run variable:\\n{}'.format(x))\n",
    "print('===============================')\n",
    "with tf.Session() as sess:\n",
    "    sess.run(init)\n",
    "    val = sess.run(x)\n",
    "    print('post-run variable:\\n{}'.format(val))"
   ]
  },
  {
   "cell_type": "markdown",
   "metadata": {
    "deletable": true,
    "editable": true
   },
   "source": [
    "We have to explicitly perform an initialization operation by running the session with the tf.global_variables_initializer method, which allocates the memory for the variable and sets\n",
    "the initial value."
   ]
  },
  {
   "cell_type": "markdown",
   "metadata": {
    "deletable": true,
    "editable": true
   },
   "source": [
    "# Placeholders and Feeds\n",
    "TensorFlow has designated built-in structures for feeding input values. Placeholders can be thought of as empty variables that will be filled with data later on. We use them by first constructing our graph and only\n",
    "when it is executed feed them with the input data.\n",
    "\n",
    "TensorFlow's feed mechanism lets you inject data into any Tensor in a computation graph. A python computation can thus feed data directly into the graph. The input data is given as a dictionary, where each key corresponds to a placeholder variable name, and the matching values are the data values given in the form of a list or a numpy array. "
   ]
  },
  {
   "cell_type": "code",
   "execution_count": null,
   "metadata": {
    "collapsed": false,
    "deletable": true,
    "editable": true
   },
   "outputs": [],
   "source": [
    "x_data = np.random.randn(800,10)\n",
    "y_data = np.random.randn(100)\n",
    "\n",
    "with tf.Graph().as_default():\n",
    "    x = tf.placeholder(np.float32,shape=(None,10))\n",
    "    y = tf.placeholder(np.float32,shape=(None))\n",
    "    with tf.Session() as sess:\n",
    "        outs = sess.run(x,feed_dict={x: x_data,y: y_data})\n",
    "        \n",
    "print(outs.shape)"
   ]
  },
  {
   "cell_type": "markdown",
   "metadata": {
    "deletable": true,
    "editable": true
   },
   "source": [
    "# Optimization\n",
    "\n",
    "Our training data points will be used for \"tuning\" the model so that it best captures the relation between our feature vectors x and our target y.\n",
    "\n",
    "<img src=\"./img/optimization.png\" width=\"500\">"
   ]
  },
  {
   "cell_type": "markdown",
   "metadata": {
    "deletable": true,
    "editable": true
   },
   "source": [
    "# Defining a loss function\n",
    "To capture the discrepancy between our model’s predictions and observed targets, we need a measure that reflects the “distance” between the observed y and predicted y. This distance is often referred to as a “loss” function, and we optimize the model by finding the set of parameters (weights) that minimize it.\n"
   ]
  },
  {
   "cell_type": "markdown",
   "metadata": {
    "deletable": true,
    "editable": true
   },
   "source": [
    "### MSE\n",
    "(Used for example in Linear Regression):\n",
    "\n",
    "# $$L(y,\\hat{y})={1\\over{n}} \\Sigma_{i=1}^n(y_i-\\hat{y}_i)^2$$\n",
    "\n",
    "~~~python \n",
    "loss = tf.reduce_mean(tf.square(y_true-y_pred))\n",
    "~~~\n",
    "\n",
    "\n",
    "### Cross entropy (classification problems)\n",
    "\n",
    "# $$H(p,q)=-\\Sigma_x{p(x) \\log q(x)}$$\n",
    "\n",
    "~~~python \n",
    "loss = tf.nn.sigmoid_cross_entropy_with_logits(labels=y_true,logits=y_pred) \n",
    "\n",
    "loss = tf.reduce_mean(loss)\n",
    "~~~\n"
   ]
  },
  {
   "cell_type": "markdown",
   "metadata": {
    "deletable": true,
    "editable": true
   },
   "source": [
    "# Defining an optimizer\n",
    "Optimizers update the set of weights iteratively in a way that lowers the loss over time.\n",
    "We first create an optimizer function with the desired parameters, such as the learning rate. "
   ]
  },
  {
   "cell_type": "markdown",
   "metadata": {
    "deletable": true,
    "editable": true
   },
   "source": [
    "~~~python \n",
    "optimizer = tf.train.GradientDescentOptimizer(learning_rate=0.5)\n",
    "train = optimizer.minimize(loss)\n",
    "~~~"
   ]
  },
  {
   "cell_type": "markdown",
   "metadata": {
    "deletable": true,
    "editable": true
   },
   "source": [
    "# Optimization example"
   ]
  },
  {
   "cell_type": "code",
   "execution_count": null,
   "metadata": {
    "collapsed": false,
    "deletable": true,
    "editable": true
   },
   "outputs": [],
   "source": [
    "from tensorflow.examples.tutorials.mnist import input_data\n",
    "import sys\n",
    "\n",
    "# This is where the MNIST data will be downloaded to. If you already have it on your \n",
    "# machine then set the path accordingly to prevent an extra download. \n",
    "DATA_DIR = '/tmp/data' if not 'win' in sys.platform else \"c:\\\\tmp\\\\data\"\n",
    "\n",
    "# Load data \n",
    "data = input_data.read_data_sets(DATA_DIR, one_hot=True)\n",
    "\n",
    "print(\"Nubmer of training-set images: {}\".format(len(data.train.images)))\n",
    "print(\"Luckily, there are also {} matching labels.\".format(len(data.train.labels)))"
   ]
  },
  {
   "cell_type": "code",
   "execution_count": null,
   "metadata": {
    "collapsed": false,
    "deletable": true,
    "editable": true
   },
   "outputs": [],
   "source": [
    "NUM_STEPS = 1000\n",
    "MINIBATCH_SIZE = 100\n",
    "\n",
    "with tf.name_scope('model') as scope:\n",
    "    x = tf.placeholder(tf.float32, [None, 784])\n",
    "    W = tf.Variable(tf.zeros([784, 10]))\n",
    "\n",
    "    y_true = tf.placeholder(tf.float32, [None, 10])\n",
    "    y_pred = tf.matmul(x, W)\n",
    "    \n",
    "with tf.name_scope('loss') as scope:\n",
    "    loss = tf.nn.softmax_cross_entropy_with_logits(logits=y_pred, labels=y_true)\n",
    "    cross_entropy = tf.reduce_mean(loss)\n",
    "    \n",
    "with tf.name_scope('train') as scope:\n",
    "    gd_step = tf.train.GradientDescentOptimizer(0.5).minimize(cross_entropy)\n",
    "    correct_mask = tf.equal(tf.argmax(y_pred, 1), tf.argmax(y_true, 1))\n",
    "    accuracy = tf.reduce_mean(tf.cast(correct_mask, tf.float32))\n",
    "    \n",
    "with tf.Session() as sess:\n",
    "\n",
    "    # Train\n",
    "    sess.run(tf.global_variables_initializer())\n",
    "    for _ in range(NUM_STEPS):\n",
    "        batch_xs, batch_ys = data.train.next_batch(MINIBATCH_SIZE)\n",
    "        sess.run(gd_step, feed_dict={x: batch_xs, y_true: batch_ys})\n",
    "\n",
    "    # Test\n",
    "    is_correct, acc = sess.run([correct_mask, accuracy], \n",
    "                               feed_dict={x: data.test.images, y_true: data.test.labels})\n",
    "\n",
    "print(\"Accuracy: {:.4}%\".format(acc*100))\n"
   ]
  },
  {
   "cell_type": "markdown",
   "metadata": {
    "deletable": true,
    "editable": true
   },
   "source": [
    "# Hands-on .3\n",
    "\n",
    "# Linear Regression\n",
    "\n",
    "## $$f(x_i) = w^Tx_i +b$$\n",
    "## $$y_i = f(x_i) + \\epsilon_i$$\n",
    "\n",
    "# Boston housing dataset\n",
    "\n",
    "The Boston Housing dataset is a relatively small dataset (506 samples), containing information concerning housing in the area of Boston Massachusetts. There are 13 predictors and the target variable is the median value of owner-occupied homes in $1000's "
   ]
  },
  {
   "cell_type": "markdown",
   "metadata": {
    "collapsed": true,
    "deletable": true,
    "editable": true
   },
   "source": [
    "### Data Set Information:\n",
    "\n",
    "Concerns housing values in suburbs of Boston.\n",
    "\n",
    "### Attribute Information:\n",
    "\n",
    "1. CRIM: per capita crime rate by town \n",
    "2. ZN: proportion of residential land zoned for lots over 25,000 sq.ft. \n",
    "3. INDUS: proportion of non-retail business acres per town \n",
    "4. CHAS: Charles River dummy variable (= 1 if tract bounds river; 0 otherwise) \n",
    "5. NOX: nitric oxides concentration (parts per 10 million) \n",
    "6. RM: average number of rooms per dwelling \n",
    "7. AGE: proportion of owner-occupied units built prior to 1940 \n",
    "8. DIS: weighted distances to five Boston employment centres \n",
    "9. RAD: index of accessibility to radial highways \n",
    "10. TAX: full-value property-tax rate per \\$10,000 \n",
    "11. PTRATIO: pupil-teacher ratio by town \n",
    "12. B: 1000(Bk - 0.63)^2 where Bk is the proportion of blacks by town \n",
    "13. LSTAT: % lower status of the population "
   ]
  },
  {
   "cell_type": "code",
   "execution_count": null,
   "metadata": {
    "collapsed": false,
    "deletable": true,
    "editable": true
   },
   "outputs": [],
   "source": [
    "boston = datasets.load_boston()\n",
    "x_data = preprocessing.StandardScaler().fit_transform(boston.data)\n",
    "\n",
    "mu = np.mean(x_data,axis=0)\n",
    "sigma = np.std(x_data,axis=0)\n",
    "x_data =  (x_data - mu)/sigma\n",
    "\n",
    "y_data = boston.target"
   ]
  },
  {
   "cell_type": "code",
   "execution_count": null,
   "metadata": {
    "collapsed": false,
    "deletable": true,
    "editable": true
   },
   "outputs": [],
   "source": [
    "x = tf.placeholder(tf.float64,shape=(None,13))\n",
    "y_true = tf.placeholder(tf.float64,shape=(None))\n",
    "\n",
    "with tf.name_scope('inference') as scope:\n",
    "    w = \n",
    "    b = \n",
    "    y_pred = \n",
    "\n",
    "with tf.name_scope('loss') as scope:\n",
    "    loss = \n",
    "\n",
    "with tf.name_scope('train') as scope:\n",
    "    learning_rate = 0.1\n",
    "    optimizer = \n",
    "    train = \n",
    "\n",
    "# Before starting, initialize the variables.  We will 'run' this first.\n",
    "\n",
    "with tf.Session() as sess:\n",
    "          \n",
    "    for step in range(200):\n",
    "        \n",
    "        \n",
    "    MSE = sess.run(loss,{x: x_data, y_true: y_data})\n",
    "    \n",
    "print(\"MSE = {}\".format(MSE))"
   ]
  },
  {
   "cell_type": "code",
   "execution_count": null,
   "metadata": {
    "collapsed": true,
    "deletable": true,
    "editable": true
   },
   "outputs": [],
   "source": [
    "%load solutions/solution3.py"
   ]
  }
 ],
 "metadata": {
  "anaconda-cloud": {},
  "kernelspec": {
   "display_name": "Python 3",
   "language": "python",
   "name": "python3"
  },
  "language_info": {
   "codemirror_mode": {
    "name": "ipython",
    "version": 3
   },
   "file_extension": ".py",
   "mimetype": "text/x-python",
   "name": "python",
   "nbconvert_exporter": "python",
   "pygments_lexer": "ipython3",
   "version": "3.5.2"
  },
  "widgets": {
   "state": {},
   "version": "1.1.2"
  }
 },
 "nbformat": 4,
 "nbformat_minor": 0
}
